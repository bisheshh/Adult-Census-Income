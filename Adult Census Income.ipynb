{
 "cells": [
  {
   "cell_type": "code",
   "execution_count": 1,
   "metadata": {},
   "outputs": [],
   "source": [
    "import pandas as pd \n",
    "import numpy as np\n",
    "import matplotlib.pyplot as plt\n",
    "%matplotlib inline"
   ]
  },
  {
   "cell_type": "code",
   "execution_count": 2,
   "metadata": {},
   "outputs": [],
   "source": [
    "data = pd.read_csv(\"Adult Census Income.csv\")"
   ]
  },
  {
   "cell_type": "code",
   "execution_count": 3,
   "metadata": {},
   "outputs": [
    {
     "data": {
      "text/html": [
       "<div>\n",
       "<style scoped>\n",
       "    .dataframe tbody tr th:only-of-type {\n",
       "        vertical-align: middle;\n",
       "    }\n",
       "\n",
       "    .dataframe tbody tr th {\n",
       "        vertical-align: top;\n",
       "    }\n",
       "\n",
       "    .dataframe thead th {\n",
       "        text-align: right;\n",
       "    }\n",
       "</style>\n",
       "<table border=\"1\" class=\"dataframe\">\n",
       "  <thead>\n",
       "    <tr style=\"text-align: right;\">\n",
       "      <th></th>\n",
       "      <th>age</th>\n",
       "      <th>workclass</th>\n",
       "      <th>fnlwgt</th>\n",
       "      <th>education</th>\n",
       "      <th>education-num</th>\n",
       "      <th>marital-status</th>\n",
       "      <th>occupation</th>\n",
       "      <th>relationship</th>\n",
       "      <th>race</th>\n",
       "      <th>sex</th>\n",
       "      <th>capital-gain</th>\n",
       "      <th>capital-loss</th>\n",
       "      <th>hours-per-week</th>\n",
       "      <th>native-country</th>\n",
       "      <th>income</th>\n",
       "    </tr>\n",
       "  </thead>\n",
       "  <tbody>\n",
       "    <tr>\n",
       "      <th>0</th>\n",
       "      <td>39</td>\n",
       "      <td>State-gov</td>\n",
       "      <td>77516</td>\n",
       "      <td>Bachelors</td>\n",
       "      <td>13</td>\n",
       "      <td>Never-married</td>\n",
       "      <td>Adm-clerical</td>\n",
       "      <td>Not-in-family</td>\n",
       "      <td>White</td>\n",
       "      <td>Male</td>\n",
       "      <td>2174</td>\n",
       "      <td>0</td>\n",
       "      <td>40</td>\n",
       "      <td>United-States</td>\n",
       "      <td>&lt;=50K</td>\n",
       "    </tr>\n",
       "    <tr>\n",
       "      <th>1</th>\n",
       "      <td>50</td>\n",
       "      <td>Self-emp-not-inc</td>\n",
       "      <td>83311</td>\n",
       "      <td>Bachelors</td>\n",
       "      <td>13</td>\n",
       "      <td>Married-civ-spouse</td>\n",
       "      <td>Exec-managerial</td>\n",
       "      <td>Husband</td>\n",
       "      <td>White</td>\n",
       "      <td>Male</td>\n",
       "      <td>0</td>\n",
       "      <td>0</td>\n",
       "      <td>13</td>\n",
       "      <td>United-States</td>\n",
       "      <td>&lt;=50K</td>\n",
       "    </tr>\n",
       "    <tr>\n",
       "      <th>2</th>\n",
       "      <td>38</td>\n",
       "      <td>Private</td>\n",
       "      <td>215646</td>\n",
       "      <td>HS-grad</td>\n",
       "      <td>9</td>\n",
       "      <td>Divorced</td>\n",
       "      <td>Handlers-cleaners</td>\n",
       "      <td>Not-in-family</td>\n",
       "      <td>White</td>\n",
       "      <td>Male</td>\n",
       "      <td>0</td>\n",
       "      <td>0</td>\n",
       "      <td>40</td>\n",
       "      <td>United-States</td>\n",
       "      <td>&lt;=50K</td>\n",
       "    </tr>\n",
       "    <tr>\n",
       "      <th>3</th>\n",
       "      <td>53</td>\n",
       "      <td>Private</td>\n",
       "      <td>234721</td>\n",
       "      <td>11th</td>\n",
       "      <td>7</td>\n",
       "      <td>Married-civ-spouse</td>\n",
       "      <td>Handlers-cleaners</td>\n",
       "      <td>Husband</td>\n",
       "      <td>Black</td>\n",
       "      <td>Male</td>\n",
       "      <td>0</td>\n",
       "      <td>0</td>\n",
       "      <td>40</td>\n",
       "      <td>United-States</td>\n",
       "      <td>&lt;=50K</td>\n",
       "    </tr>\n",
       "    <tr>\n",
       "      <th>4</th>\n",
       "      <td>28</td>\n",
       "      <td>Private</td>\n",
       "      <td>338409</td>\n",
       "      <td>Bachelors</td>\n",
       "      <td>13</td>\n",
       "      <td>Married-civ-spouse</td>\n",
       "      <td>Prof-specialty</td>\n",
       "      <td>Wife</td>\n",
       "      <td>Black</td>\n",
       "      <td>Female</td>\n",
       "      <td>0</td>\n",
       "      <td>0</td>\n",
       "      <td>40</td>\n",
       "      <td>Cuba</td>\n",
       "      <td>&lt;=50K</td>\n",
       "    </tr>\n",
       "  </tbody>\n",
       "</table>\n",
       "</div>"
      ],
      "text/plain": [
       "   age          workclass   fnlwgt   education   education-num  \\\n",
       "0   39          State-gov    77516   Bachelors              13   \n",
       "1   50   Self-emp-not-inc    83311   Bachelors              13   \n",
       "2   38            Private   215646     HS-grad               9   \n",
       "3   53            Private   234721        11th               7   \n",
       "4   28            Private   338409   Bachelors              13   \n",
       "\n",
       "        marital-status          occupation    relationship    race      sex  \\\n",
       "0        Never-married        Adm-clerical   Not-in-family   White     Male   \n",
       "1   Married-civ-spouse     Exec-managerial         Husband   White     Male   \n",
       "2             Divorced   Handlers-cleaners   Not-in-family   White     Male   \n",
       "3   Married-civ-spouse   Handlers-cleaners         Husband   Black     Male   \n",
       "4   Married-civ-spouse      Prof-specialty            Wife   Black   Female   \n",
       "\n",
       "    capital-gain   capital-loss   hours-per-week  native-country  income  \n",
       "0           2174              0               40   United-States   <=50K  \n",
       "1              0              0               13   United-States   <=50K  \n",
       "2              0              0               40   United-States   <=50K  \n",
       "3              0              0               40   United-States   <=50K  \n",
       "4              0              0               40            Cuba   <=50K  "
      ]
     },
     "execution_count": 3,
     "metadata": {},
     "output_type": "execute_result"
    }
   ],
   "source": [
    "data.head(5)"
   ]
  },
  {
   "cell_type": "code",
   "execution_count": 4,
   "metadata": {},
   "outputs": [
    {
     "data": {
      "text/plain": [
       "Index(['age', ' workclass', ' fnlwgt', ' education', ' education-num',\n",
       "       ' marital-status', ' occupation', ' relationship', ' race', ' sex',\n",
       "       ' capital-gain', ' capital-loss', ' hours-per-week', ' native-country',\n",
       "       ' income'],\n",
       "      dtype='object')"
      ]
     },
     "execution_count": 4,
     "metadata": {},
     "output_type": "execute_result"
    }
   ],
   "source": [
    "data.columns"
   ]
  },
  {
   "cell_type": "code",
   "execution_count": 5,
   "metadata": {},
   "outputs": [
    {
     "data": {
      "text/html": [
       "<div>\n",
       "<style scoped>\n",
       "    .dataframe tbody tr th:only-of-type {\n",
       "        vertical-align: middle;\n",
       "    }\n",
       "\n",
       "    .dataframe tbody tr th {\n",
       "        vertical-align: top;\n",
       "    }\n",
       "\n",
       "    .dataframe thead th {\n",
       "        text-align: right;\n",
       "    }\n",
       "</style>\n",
       "<table border=\"1\" class=\"dataframe\">\n",
       "  <thead>\n",
       "    <tr style=\"text-align: right;\">\n",
       "      <th></th>\n",
       "      <th>age</th>\n",
       "      <th>fnlwgt</th>\n",
       "      <th>education-num</th>\n",
       "      <th>capital-gain</th>\n",
       "      <th>capital-loss</th>\n",
       "      <th>hours-per-week</th>\n",
       "    </tr>\n",
       "  </thead>\n",
       "  <tbody>\n",
       "    <tr>\n",
       "      <th>count</th>\n",
       "      <td>32561.000000</td>\n",
       "      <td>3.256100e+04</td>\n",
       "      <td>32561.000000</td>\n",
       "      <td>32561.000000</td>\n",
       "      <td>32561.000000</td>\n",
       "      <td>32561.000000</td>\n",
       "    </tr>\n",
       "    <tr>\n",
       "      <th>mean</th>\n",
       "      <td>38.581647</td>\n",
       "      <td>1.897784e+05</td>\n",
       "      <td>10.080679</td>\n",
       "      <td>1077.648844</td>\n",
       "      <td>87.303830</td>\n",
       "      <td>40.437456</td>\n",
       "    </tr>\n",
       "    <tr>\n",
       "      <th>std</th>\n",
       "      <td>13.640433</td>\n",
       "      <td>1.055500e+05</td>\n",
       "      <td>2.572720</td>\n",
       "      <td>7385.292085</td>\n",
       "      <td>402.960219</td>\n",
       "      <td>12.347429</td>\n",
       "    </tr>\n",
       "    <tr>\n",
       "      <th>min</th>\n",
       "      <td>17.000000</td>\n",
       "      <td>1.228500e+04</td>\n",
       "      <td>1.000000</td>\n",
       "      <td>0.000000</td>\n",
       "      <td>0.000000</td>\n",
       "      <td>1.000000</td>\n",
       "    </tr>\n",
       "    <tr>\n",
       "      <th>25%</th>\n",
       "      <td>28.000000</td>\n",
       "      <td>1.178270e+05</td>\n",
       "      <td>9.000000</td>\n",
       "      <td>0.000000</td>\n",
       "      <td>0.000000</td>\n",
       "      <td>40.000000</td>\n",
       "    </tr>\n",
       "    <tr>\n",
       "      <th>50%</th>\n",
       "      <td>37.000000</td>\n",
       "      <td>1.783560e+05</td>\n",
       "      <td>10.000000</td>\n",
       "      <td>0.000000</td>\n",
       "      <td>0.000000</td>\n",
       "      <td>40.000000</td>\n",
       "    </tr>\n",
       "    <tr>\n",
       "      <th>75%</th>\n",
       "      <td>48.000000</td>\n",
       "      <td>2.370510e+05</td>\n",
       "      <td>12.000000</td>\n",
       "      <td>0.000000</td>\n",
       "      <td>0.000000</td>\n",
       "      <td>45.000000</td>\n",
       "    </tr>\n",
       "    <tr>\n",
       "      <th>max</th>\n",
       "      <td>90.000000</td>\n",
       "      <td>1.484705e+06</td>\n",
       "      <td>16.000000</td>\n",
       "      <td>99999.000000</td>\n",
       "      <td>4356.000000</td>\n",
       "      <td>99.000000</td>\n",
       "    </tr>\n",
       "  </tbody>\n",
       "</table>\n",
       "</div>"
      ],
      "text/plain": [
       "                age        fnlwgt   education-num   capital-gain  \\\n",
       "count  32561.000000  3.256100e+04    32561.000000   32561.000000   \n",
       "mean      38.581647  1.897784e+05       10.080679    1077.648844   \n",
       "std       13.640433  1.055500e+05        2.572720    7385.292085   \n",
       "min       17.000000  1.228500e+04        1.000000       0.000000   \n",
       "25%       28.000000  1.178270e+05        9.000000       0.000000   \n",
       "50%       37.000000  1.783560e+05       10.000000       0.000000   \n",
       "75%       48.000000  2.370510e+05       12.000000       0.000000   \n",
       "max       90.000000  1.484705e+06       16.000000   99999.000000   \n",
       "\n",
       "        capital-loss   hours-per-week  \n",
       "count   32561.000000     32561.000000  \n",
       "mean       87.303830        40.437456  \n",
       "std       402.960219        12.347429  \n",
       "min         0.000000         1.000000  \n",
       "25%         0.000000        40.000000  \n",
       "50%         0.000000        40.000000  \n",
       "75%         0.000000        45.000000  \n",
       "max      4356.000000        99.000000  "
      ]
     },
     "execution_count": 5,
     "metadata": {},
     "output_type": "execute_result"
    }
   ],
   "source": [
    "data.describe()"
   ]
  },
  {
   "cell_type": "code",
   "execution_count": 6,
   "metadata": {},
   "outputs": [],
   "source": [
    "data.columns = data.columns.str.strip()\n",
    "data = data.drop(['fnlwgt', 'education-num'], axis=1)"
   ]
  },
  {
   "cell_type": "code",
   "execution_count": 7,
   "metadata": {},
   "outputs": [
    {
     "data": {
      "text/plain": [
       "(array([24720.,     0.,     0.,     0.,     0.,     0.,     0.,     0.,\n",
       "            0.,  7841.]),\n",
       " array([0. , 0.1, 0.2, 0.3, 0.4, 0.5, 0.6, 0.7, 0.8, 0.9, 1. ]),\n",
       " <BarContainer object of 10 artists>)"
      ]
     },
     "execution_count": 7,
     "metadata": {},
     "output_type": "execute_result"
    },
    {
     "data": {
      "image/png": "[encoded data removed]",
      "text/plain": [
       "<Figure size 432x288 with 1 Axes>"
      ]
     },
     "metadata": {
      "needs_background": "light"
     },
     "output_type": "display_data"
    }
   ],
   "source": [
    "plt.hist(data.income)"
   ]
  },
  {
   "cell_type": "code",
   "execution_count": 8,
   "metadata": {},
   "outputs": [
    {
     "data": {
      "text/plain": [
       "age               0\n",
       "workclass         0\n",
       "education         0\n",
       "marital-status    0\n",
       "occupation        0\n",
       "relationship      0\n",
       "race              0\n",
       "sex               0\n",
       "capital-gain      0\n",
       "capital-loss      0\n",
       "hours-per-week    0\n",
       "native-country    0\n",
       "income            0\n",
       "dtype: int64"
      ]
     },
     "execution_count": 8,
     "metadata": {},
     "output_type": "execute_result"
    }
   ],
   "source": [
    "data.isnull().sum()"
   ]
  },
  {
   "cell_type": "code",
   "execution_count": 9,
   "metadata": {},
   "outputs": [
    {
     "name": "stdout",
     "output_type": "stream",
     "text": [
      "workclass : 9\n",
      "education : 16\n",
      "marital-status : 7\n",
      "occupation : 15\n",
      "relationship : 6\n",
      "race : 5\n",
      "sex : 2\n",
      "native-country : 42\n"
     ]
    }
   ],
   "source": [
    "column_list = data.columns.values.tolist()\n",
    "\n",
    "column_list = [x for x in column_list if data[x].dtype=='object' and x!='income']\n",
    "\n",
    "for col in column_list:\n",
    "    print(\"%s : %s\" % (col, data[col].nunique()))"
   ]
  },
  {
   "cell_type": "code",
   "execution_count": 10,
   "metadata": {},
   "outputs": [
    {
     "name": "stdout",
     "output_type": "stream",
     "text": [
      "<class 'pandas.core.frame.DataFrame'>\n",
      "RangeIndex: 32561 entries, 0 to 32560\n",
      "Data columns (total 13 columns):\n",
      " #   Column          Non-Null Count  Dtype   \n",
      "---  ------          --------------  -----   \n",
      " 0   age             32561 non-null  int64   \n",
      " 1   workclass       32561 non-null  category\n",
      " 2   education       32561 non-null  category\n",
      " 3   marital-status  32561 non-null  category\n",
      " 4   occupation      32561 non-null  category\n",
      " 5   relationship    32561 non-null  category\n",
      " 6   race            32561 non-null  category\n",
      " 7   sex             32561 non-null  category\n",
      " 8   capital-gain    32561 non-null  int64   \n",
      " 9   capital-loss    32561 non-null  int64   \n",
      " 10  hours-per-week  32561 non-null  int64   \n",
      " 11  native-country  32561 non-null  category\n",
      " 12  income          32561 non-null  object  \n",
      "dtypes: category(8), int64(4), object(1)\n",
      "memory usage: 1.5+ MB\n"
     ]
    }
   ],
   "source": [
    "data[column_list] = data[column_list].astype('category')\n",
    "data.info()"
   ]
  },
  {
   "cell_type": "code",
   "execution_count": 11,
   "metadata": {},
   "outputs": [
    {
     "data": {
      "text/plain": [
       " <=50K    24720\n",
       " >50K      7841\n",
       "Name: income, dtype: int64"
      ]
     },
     "execution_count": 11,
     "metadata": {},
     "output_type": "execute_result"
    }
   ],
   "source": [
    "data_copy = data.copy()\n",
    "data.income.value_counts()"
   ]
  },
  {
   "cell_type": "code",
   "execution_count": 12,
   "metadata": {},
   "outputs": [
    {
     "data": {
      "text/html": [
       "<div>\n",
       "<style scoped>\n",
       "    .dataframe tbody tr th:only-of-type {\n",
       "        vertical-align: middle;\n",
       "    }\n",
       "\n",
       "    .dataframe tbody tr th {\n",
       "        vertical-align: top;\n",
       "    }\n",
       "\n",
       "    .dataframe thead th {\n",
       "        text-align: right;\n",
       "    }\n",
       "</style>\n",
       "<table border=\"1\" class=\"dataframe\">\n",
       "  <thead>\n",
       "    <tr style=\"text-align: right;\">\n",
       "      <th></th>\n",
       "      <th>age</th>\n",
       "      <th>workclass</th>\n",
       "      <th>education</th>\n",
       "      <th>marital-status</th>\n",
       "      <th>occupation</th>\n",
       "      <th>relationship</th>\n",
       "      <th>race</th>\n",
       "      <th>sex</th>\n",
       "      <th>capital-gain</th>\n",
       "      <th>capital-loss</th>\n",
       "      <th>hours-per-week</th>\n",
       "      <th>native-country</th>\n",
       "      <th>income</th>\n",
       "    </tr>\n",
       "  </thead>\n",
       "  <tbody>\n",
       "    <tr>\n",
       "      <th>0</th>\n",
       "      <td>39</td>\n",
       "      <td>7</td>\n",
       "      <td>9</td>\n",
       "      <td>4</td>\n",
       "      <td>1</td>\n",
       "      <td>1</td>\n",
       "      <td>4</td>\n",
       "      <td>1</td>\n",
       "      <td>2174</td>\n",
       "      <td>0</td>\n",
       "      <td>40</td>\n",
       "      <td>39</td>\n",
       "      <td>&lt;=50K</td>\n",
       "    </tr>\n",
       "    <tr>\n",
       "      <th>1</th>\n",
       "      <td>50</td>\n",
       "      <td>6</td>\n",
       "      <td>9</td>\n",
       "      <td>2</td>\n",
       "      <td>4</td>\n",
       "      <td>0</td>\n",
       "      <td>4</td>\n",
       "      <td>1</td>\n",
       "      <td>0</td>\n",
       "      <td>0</td>\n",
       "      <td>13</td>\n",
       "      <td>39</td>\n",
       "      <td>&lt;=50K</td>\n",
       "    </tr>\n",
       "    <tr>\n",
       "      <th>2</th>\n",
       "      <td>38</td>\n",
       "      <td>4</td>\n",
       "      <td>11</td>\n",
       "      <td>0</td>\n",
       "      <td>6</td>\n",
       "      <td>1</td>\n",
       "      <td>4</td>\n",
       "      <td>1</td>\n",
       "      <td>0</td>\n",
       "      <td>0</td>\n",
       "      <td>40</td>\n",
       "      <td>39</td>\n",
       "      <td>&lt;=50K</td>\n",
       "    </tr>\n",
       "    <tr>\n",
       "      <th>3</th>\n",
       "      <td>53</td>\n",
       "      <td>4</td>\n",
       "      <td>1</td>\n",
       "      <td>2</td>\n",
       "      <td>6</td>\n",
       "      <td>0</td>\n",
       "      <td>2</td>\n",
       "      <td>1</td>\n",
       "      <td>0</td>\n",
       "      <td>0</td>\n",
       "      <td>40</td>\n",
       "      <td>39</td>\n",
       "      <td>&lt;=50K</td>\n",
       "    </tr>\n",
       "    <tr>\n",
       "      <th>4</th>\n",
       "      <td>28</td>\n",
       "      <td>4</td>\n",
       "      <td>9</td>\n",
       "      <td>2</td>\n",
       "      <td>10</td>\n",
       "      <td>5</td>\n",
       "      <td>2</td>\n",
       "      <td>0</td>\n",
       "      <td>0</td>\n",
       "      <td>0</td>\n",
       "      <td>40</td>\n",
       "      <td>5</td>\n",
       "      <td>&lt;=50K</td>\n",
       "    </tr>\n",
       "  </tbody>\n",
       "</table>\n",
       "</div>"
      ],
      "text/plain": [
       "   age  workclass  education  marital-status  occupation  relationship  race  \\\n",
       "0   39          7          9               4           1             1     4   \n",
       "1   50          6          9               2           4             0     4   \n",
       "2   38          4         11               0           6             1     4   \n",
       "3   53          4          1               2           6             0     2   \n",
       "4   28          4          9               2          10             5     2   \n",
       "\n",
       "   sex  capital-gain  capital-loss  hours-per-week  native-country  income  \n",
       "0    1          2174             0              40              39   <=50K  \n",
       "1    1             0             0              13              39   <=50K  \n",
       "2    1             0             0              40              39   <=50K  \n",
       "3    1             0             0              40              39   <=50K  \n",
       "4    0             0             0              40               5   <=50K  "
      ]
     },
     "execution_count": 12,
     "metadata": {},
     "output_type": "execute_result"
    }
   ],
   "source": [
    "from sklearn.preprocessing import LabelEncoder\n",
    "\n",
    "for col in column_list:\n",
    "    data_copy[col] = LabelEncoder().fit_transform(data_copy[col])\n",
    "\n",
    "data_copy.head()"
   ]
  },
  {
   "cell_type": "code",
   "execution_count": 13,
   "metadata": {},
   "outputs": [
    {
     "data": {
      "text/plain": [
       " <=50K    24720\n",
       " >50K      7841\n",
       "Name: income, dtype: int64"
      ]
     },
     "execution_count": 13,
     "metadata": {},
     "output_type": "execute_result"
    }
   ],
   "source": [
    "X = data_copy.drop(['income'], axis=1)\n",
    "y = data_copy.income\n",
    "y.value_counts()"
   ]
  },
  {
   "cell_type": "code",
   "execution_count": 14,
   "metadata": {},
   "outputs": [],
   "source": [
    "from sklearn.model_selection import train_test_split\n",
    "\n",
    "x_train, x_test, y_train, y_test = train_test_split(X, y, test_size=0.3, random_state=42)"
   ]
  },
  {
   "cell_type": "code",
   "execution_count": 28,
   "metadata": {},
   "outputs": [
    {
     "name": "stdout",
     "output_type": "stream",
     "text": [
      "Classification Report: \n",
      "               precision    recall  f1-score   support\n",
      "\n",
      "       <=50K       0.88      0.88      0.88      7455\n",
      "        >50K       0.61      0.63      0.62      2314\n",
      "\n",
      "    accuracy                           0.82      9769\n",
      "   macro avg       0.75      0.75      0.75      9769\n",
      "weighted avg       0.82      0.82      0.82      9769\n",
      "\n",
      "Accuracy Score:  0.8169720544579793\n",
      "Confusion Matrix: \n",
      " [[6532  923]\n",
      " [ 865 1449]]\n"
     ]
    }
   ],
   "source": [
    "from sklearn import metrics\n",
    "from sklearn.tree import DecisionTreeClassifier\n",
    "\n",
    "model = DecisionTreeClassifier()\n",
    "model.fit(x_train, y_train)\n",
    "\n",
    "\n",
    "def model_metrics(model, x_train, x_test, y_train, y_test):\n",
    "    print(\"Classification Report: \\n\", metrics.classification_report(y_test, model.predict(x_test)))\n",
    "    print(\"Accuracy Score: \", metrics.accuracy_score(y_test, model.predict(x_test)))\n",
    "    print(\"Confusion Matrix: \\n\", metrics.confusion_matrix(y_test, model.predict(x_test)))\n",
    "\n",
    "model_metrics(model, x_train, x_test, y_train, y_test)\n"
   ]
  },
  {
   "cell_type": "code",
   "execution_count": 27,
   "metadata": {},
   "outputs": [],
   "source": [
    "from imblearn.over_sampling import SMOTE\n",
    "\n",
    "smote = SMOTE(sampling_strategy='minority')\n",
    "X_sm, y_sm = smote.fit_resample(X, y)"
   ]
  },
  {
   "cell_type": "code",
   "execution_count": 29,
   "metadata": {},
   "outputs": [
    {
     "name": "stdout",
     "output_type": "stream",
     "text": [
      "Classification Report: \n",
      "               precision    recall  f1-score   support\n",
      "\n",
      "       <=50K       0.87      0.83      0.85      6180\n",
      "        >50K       0.84      0.87      0.86      6180\n",
      "\n",
      "    accuracy                           0.85     12360\n",
      "   macro avg       0.85      0.85      0.85     12360\n",
      "weighted avg       0.85      0.85      0.85     12360\n",
      "\n",
      "Accuracy Score:  0.8529126213592233\n",
      "Confusion Matrix: \n",
      " [[5160 1020]\n",
      " [ 798 5382]]\n"
     ]
    }
   ],
   "source": [
    "x_train_sm, x_test_sm, y_train_sm, y_test_sm = train_test_split(X_sm, y_sm, test_size=0.25, random_state=42, stratify=y_sm)\n",
    "\n",
    "model = DecisionTreeClassifier()\n",
    "model.fit(x_train_sm, y_train_sm)\n",
    "\n",
    "model_metrics(model, x_train_sm, x_test_sm, y_train_sm, y_test_sm)"
   ]
  },
  {
   "cell_type": "code",
   "execution_count": 50,
   "metadata": {},
   "outputs": [
    {
     "name": "stdout",
     "output_type": "stream",
     "text": [
      "0.8488942826321468\n",
      "{'ccp_alpha': 0.0, 'class_weight': None, 'criterion': 'entropy', 'max_depth': 201, 'max_features': None, 'max_leaf_nodes': None, 'min_impurity_decrease': 0.0, 'min_samples_leaf': 10, 'min_samples_split': 2, 'min_weight_fraction_leaf': 0.0, 'random_state': None, 'splitter': 'best'}\n"
     ]
    }
   ],
   "source": [
    "from sklearn import model_selection\n",
    "\n",
    "model = DecisionTreeClassifier()\n",
    "params = {\n",
    "    'max_depth': np.arange(1,500, 50),\n",
    "    'min_samples_leaf': [5, 10, 20, 50, 100],\n",
    "    'criterion': [\"gini\", \"entropy\"]\n",
    "}\n",
    "\n",
    "model = model_selection.GridSearchCV(\n",
    "    estimator = model,\n",
    "    param_grid = params, \n",
    "    cv=10, \n",
    "    scoring='accuracy',\n",
    "    n_jobs = -1\n",
    "    )\n",
    "\n",
    "model.fit(x_train_sm, y_train_sm)\n",
    "\n",
    "print(model.best_score_)\n",
    "print(model.best_estimator_.get_params())"
   ]
  },
  {
   "cell_type": "code",
   "execution_count": 40,
   "metadata": {},
   "outputs": [
    {
     "name": "stdout",
     "output_type": "stream",
     "text": [
      "Classification Report: \n",
      "               precision    recall  f1-score   support\n",
      "\n",
      "       <=50K       0.86      0.84      0.85      6180\n",
      "        >50K       0.84      0.87      0.85      6180\n",
      "\n",
      "    accuracy                           0.85     12360\n",
      "   macro avg       0.85      0.85      0.85     12360\n",
      "weighted avg       0.85      0.85      0.85     12360\n",
      "\n",
      "Accuracy Score:  0.8516181229773463\n",
      "Confusion Matrix: \n",
      " [[5175 1005]\n",
      " [ 829 5351]]\n"
     ]
    }
   ],
   "source": [
    "model = DecisionTreeClassifier(criterion='entropy', splitter='best', max_depth=20, min_samples_split=2, \n",
    "min_samples_leaf=5, min_weight_fraction_leaf=0.0, max_features=None, random_state=None, max_leaf_nodes=None, \n",
    "min_impurity_decrease=0.0, class_weight=None, ccp_alpha=0.0)\n",
    "\n",
    "model.fit(x_train_sm, y_train_sm)\n",
    "model_metrics(model, x_train_sm, x_test_sm, y_train_sm, y_test_sm)"
   ]
  },
  {
   "cell_type": "code",
   "execution_count": 42,
   "metadata": {},
   "outputs": [
    {
     "name": "stdout",
     "output_type": "stream",
     "text": [
      "Fitting 10 folds for each of 10 candidates, totalling 100 fits\n",
      "[CV 1/10; 1/10] START criterion=entropy, max_depth=2, min_samples_leaf=100......\n",
      "[CV 4/10; 1/10] START criterion=entropy, max_depth=2, min_samples_leaf=100......\n",
      "[CV 8/10; 1/10] START criterion=entropy, max_depth=2, min_samples_leaf=100......\n",
      "[CV 4/10; 1/10] END criterion=entropy, max_depth=2, min_samples_leaf=100;, score=0.771 total time=   0.2s\n",
      "[CV 1/10; 1/10] END criterion=entropy, max_depth=2, min_samples_leaf=100;, score=0.776 total time=   0.3s\n",
      "[CV 9/10; 1/10] START criterion=entropy, max_depth=2, min_samples_leaf=100......\n",
      "[CV 10/10; 1/10] START criterion=entropy, max_depth=2, min_samples_leaf=100.....\n",
      "[CV 8/10; 1/10] END criterion=entropy, max_depth=2, min_samples_leaf=100;, score=0.769 total time=   0.3s\n",
      "[CV 1/10; 2/10] START criterion=gini, max_depth=20, min_samples_leaf=10.........\n",
      "[CV 9/10; 1/10] END criterion=entropy, max_depth=2, min_samples_leaf=100;, score=0.776 total time=   0.3s\n",
      "[CV 2/10; 2/10] START criterion=gini, max_depth=20, min_samples_leaf=10.........\n",
      "[CV 3/10; 1/10] START criterion=entropy, max_depth=2, min_samples_leaf=100......\n",
      "[CV 10/10; 1/10] END criterion=entropy, max_depth=2, min_samples_leaf=100;, score=0.785 total time=   0.4s\n",
      "[CV 5/10; 1/10] START criterion=entropy, max_depth=2, min_samples_leaf=100......\n",
      "[CV 6/10; 1/10] START criterion=entropy, max_depth=2, min_samples_leaf=100......\n",
      "[CV 3/10; 2/10] START criterion=gini, max_depth=20, min_samples_leaf=10.........\n",
      "[CV 2/10; 1/10] START criterion=entropy, max_depth=2, min_samples_leaf=100......\n",
      "[CV 1/10; 2/10] END criterion=gini, max_depth=20, min_samples_leaf=10;, score=0.845 total time=   0.4s\n",
      "[CV 4/10; 2/10] START criterion=gini, max_depth=20, min_samples_leaf=10.........\n",
      "[CV 3/10; 1/10] END criterion=entropy, max_depth=2, min_samples_leaf=100;, score=0.781 total time=   0.3s\n",
      "[CV 5/10; 1/10] END criterion=entropy, max_depth=2, min_samples_leaf=100;, score=0.782 total time=   0.3s\n",
      "[CV 5/10; 2/10] START criterion=gini, max_depth=20, min_samples_leaf=10.........\n",
      "[CV 2/10; 1/10] END criterion=entropy, max_depth=2, min_samples_leaf=100;, score=0.783 total time=   0.3s\n",
      "[CV 7/10; 1/10] START criterion=entropy, max_depth=2, min_samples_leaf=100......\n",
      "[CV 6/10; 1/10] END criterion=entropy, max_depth=2, min_samples_leaf=100;, score=0.769 total time=   0.4s\n",
      "[CV 2/10; 2/10] END criterion=gini, max_depth=20, min_samples_leaf=10;, score=0.853 total time=   0.6s\n",
      "[CV 6/10; 2/10] START criterion=gini, max_depth=20, min_samples_leaf=10.........\n",
      "[CV 7/10; 2/10] START criterion=gini, max_depth=20, min_samples_leaf=10.........\n",
      "[CV 4/10; 2/10] END criterion=gini, max_depth=20, min_samples_leaf=10;, score=0.847 total time=   0.5s\n",
      "[CV 8/10; 2/10] START criterion=gini, max_depth=20, min_samples_leaf=10.........\n",
      "[CV 9/10; 2/10] START criterion=gini, max_depth=20, min_samples_leaf=10.........\n",
      "[CV 3/10; 2/10] END criterion=gini, max_depth=20, min_samples_leaf=10;, score=0.851 total time=   0.7s\n",
      "[CV 10/10; 2/10] START criterion=gini, max_depth=20, min_samples_leaf=10........\n",
      "[CV 1/10; 3/10] START criterion=gini, max_depth=10, min_samples_leaf=10.........\n",
      "[CV 7/10; 1/10] END criterion=entropy, max_depth=2, min_samples_leaf=100;, score=0.777 total time=   0.4s\n",
      "[CV 2/10; 3/10] START criterion=gini, max_depth=10, min_samples_leaf=10.........\n",
      "[CV 7/10; 2/10] END criterion=gini, max_depth=20, min_samples_leaf=10;, score=0.850 total time=   0.5s\n",
      "[CV 5/10; 2/10] END criterion=gini, max_depth=20, min_samples_leaf=10;, score=0.850 total time=   0.8s\n",
      "[CV 4/10; 3/10] START criterion=gini, max_depth=10, min_samples_leaf=10.........\n",
      "[CV 3/10; 3/10] START criterion=gini, max_depth=10, min_samples_leaf=10.........\n",
      "[CV 6/10; 2/10] END criterion=gini, max_depth=20, min_samples_leaf=10;, score=0.850 total time=   0.7s\n",
      "[CV 8/10; 2/10] END criterion=gini, max_depth=20, min_samples_leaf=10;, score=0.845 total time=   0.7s\n",
      "[CV 5/10; 3/10] START criterion=gini, max_depth=10, min_samples_leaf=10.........\n",
      "[CV 6/10; 3/10] START criterion=gini, max_depth=10, min_samples_leaf=10.........\n",
      "[CV 9/10; 2/10] END criterion=gini, max_depth=20, min_samples_leaf=10;, score=0.839 total time=   0.8s\n",
      "[CV 1/10; 3/10] END criterion=gini, max_depth=10, min_samples_leaf=10;, score=0.852 total time=   0.7s\n",
      "[CV 10/10; 2/10] END criterion=gini, max_depth=20, min_samples_leaf=10;, score=0.850 total time=   0.7s\n",
      "[CV 7/10; 3/10] START criterion=gini, max_depth=10, min_samples_leaf=10.........\n",
      "[CV 8/10; 3/10] START criterion=gini, max_depth=10, min_samples_leaf=10.........\n",
      "[CV 9/10; 3/10] START criterion=gini, max_depth=10, min_samples_leaf=10.........\n",
      "[CV 2/10; 3/10] END criterion=gini, max_depth=10, min_samples_leaf=10;, score=0.849 total time=   0.7s\n",
      "[CV 3/10; 3/10] END criterion=gini, max_depth=10, min_samples_leaf=10;, score=0.854 total time=   0.5s\n",
      "[CV 10/10; 3/10] START criterion=gini, max_depth=10, min_samples_leaf=10........\n",
      "[CV 4/10; 3/10] END criterion=gini, max_depth=10, min_samples_leaf=10;, score=0.840 total time=   0.5s\n",
      "[CV 1/10; 4/10] START criterion=gini, max_depth=2, min_samples_leaf=20..........\n",
      "[CV 2/10; 4/10] START criterion=gini, max_depth=2, min_samples_leaf=20..........\n",
      "[CV 5/10; 3/10] END criterion=gini, max_depth=10, min_samples_leaf=10;, score=0.843 total time=   0.4s\n",
      "[CV 3/10; 4/10] START criterion=gini, max_depth=2, min_samples_leaf=20..........\n",
      "[CV 6/10; 3/10] END criterion=gini, max_depth=10, min_samples_leaf=10;, score=0.844 total time=   0.5s\n",
      "[CV 4/10; 4/10] START criterion=gini, max_depth=2, min_samples_leaf=20..........\n",
      "[CV 7/10; 3/10] END criterion=gini, max_depth=10, min_samples_leaf=10;, score=0.848 total time=   0.5s\n",
      "[CV 1/10; 4/10] END criterion=gini, max_depth=2, min_samples_leaf=20;, score=0.792 total time=   0.3s\n",
      "[CV 2/10; 4/10] END criterion=gini, max_depth=2, min_samples_leaf=20;, score=0.797 total time=   0.2s\n",
      "[CV 5/10; 4/10] START criterion=gini, max_depth=2, min_samples_leaf=20..........\n",
      "[CV 6/10; 4/10] START criterion=gini, max_depth=2, min_samples_leaf=20..........\n",
      "[CV 3/10; 4/10] END criterion=gini, max_depth=2, min_samples_leaf=20;, score=0.789 total time=   0.2s\n",
      "[CV 9/10; 3/10] END criterion=gini, max_depth=10, min_samples_leaf=10;, score=0.845 total time=   0.5s\n",
      "[CV 8/10; 3/10] END criterion=gini, max_depth=10, min_samples_leaf=10;, score=0.836 total time=   0.6s\n",
      "[CV 7/10; 4/10] START criterion=gini, max_depth=2, min_samples_leaf=20..........\n",
      "[CV 8/10; 4/10] START criterion=gini, max_depth=2, min_samples_leaf=20..........\n",
      "[CV 10/10; 3/10] END criterion=gini, max_depth=10, min_samples_leaf=10;, score=0.846 total time=   0.4s\n",
      "[CV 9/10; 4/10] START criterion=gini, max_depth=2, min_samples_leaf=20..........\n",
      "[CV 10/10; 4/10] START criterion=gini, max_depth=2, min_samples_leaf=20.........\n",
      "[CV 4/10; 4/10] END criterion=gini, max_depth=2, min_samples_leaf=20;, score=0.790 total time=   0.2s\n",
      "[CV 2/10; 5/10] START criterion=gini, max_depth=10, min_samples_leaf=100........\n",
      "[CV 5/10; 4/10] END criterion=gini, max_depth=2, min_samples_leaf=20;, score=0.791 total time=   0.2s\n",
      "[CV 1/10; 5/10] START criterion=gini, max_depth=10, min_samples_leaf=100........\n",
      "[CV 3/10; 5/10] START criterion=gini, max_depth=10, min_samples_leaf=100........\n",
      "[CV 7/10; 4/10] END criterion=gini, max_depth=2, min_samples_leaf=20;, score=0.796 total time=   0.2s\n",
      "[CV 6/10; 4/10] END criterion=gini, max_depth=2, min_samples_leaf=20;, score=0.791 total time=   0.2s\n",
      "[CV 4/10; 5/10] START criterion=gini, max_depth=10, min_samples_leaf=100........\n",
      "[CV 8/10; 4/10] END criterion=gini, max_depth=2, min_samples_leaf=20;, score=0.784 total time=   0.2s\n",
      "[CV 10/10; 4/10] END criterion=gini, max_depth=2, min_samples_leaf=20;, score=0.800 total time=   0.2s\n",
      "[CV 5/10; 5/10] START criterion=gini, max_depth=10, min_samples_leaf=100........\n",
      "[CV 6/10; 5/10] START criterion=gini, max_depth=10, min_samples_leaf=100........\n",
      "[CV 7/10; 5/10] START criterion=gini, max_depth=10, min_samples_leaf=100........\n",
      "[CV 9/10; 4/10] END criterion=gini, max_depth=2, min_samples_leaf=20;, score=0.792 total time=   0.3s\n",
      "[CV 8/10; 5/10] START criterion=gini, max_depth=10, min_samples_leaf=100........\n",
      "[CV 1/10; 5/10] END criterion=gini, max_depth=10, min_samples_leaf=100;, score=0.835 total time=   0.4s\n",
      "[CV 9/10; 5/10] START criterion=gini, max_depth=10, min_samples_leaf=100........\n",
      "[CV 2/10; 5/10] END criterion=gini, max_depth=10, min_samples_leaf=100;, score=0.842 total time=   0.4s\n",
      "[CV 10/10; 5/10] START criterion=gini, max_depth=10, min_samples_leaf=100.......\n",
      "[CV 3/10; 5/10] END criterion=gini, max_depth=10, min_samples_leaf=100;, score=0.840 total time=   0.5s\n",
      "[CV 1/10; 6/10] START criterion=entropy, max_depth=10, min_samples_leaf=20......\n",
      "[CV 5/10; 5/10] END criterion=gini, max_depth=10, min_samples_leaf=100;, score=0.836 total time=   0.5s\n",
      "[CV 4/10; 5/10] END criterion=gini, max_depth=10, min_samples_leaf=100;, score=0.837 total time=   0.5s\n",
      "[CV 2/10; 6/10] START criterion=entropy, max_depth=10, min_samples_leaf=20......\n",
      "[CV 3/10; 6/10] START criterion=entropy, max_depth=10, min_samples_leaf=20......\n",
      "[CV 7/10; 5/10] END criterion=gini, max_depth=10, min_samples_leaf=100;, score=0.838 total time=   0.6s\n",
      "[CV 8/10; 5/10] END criterion=gini, max_depth=10, min_samples_leaf=100;, score=0.830 total time=   0.5s\n",
      "[CV 4/10; 6/10] START criterion=entropy, max_depth=10, min_samples_leaf=20......\n",
      "[CV 9/10; 5/10] END criterion=gini, max_depth=10, min_samples_leaf=100;, score=0.835 total time=   0.4s\n",
      "[CV 5/10; 6/10] START criterion=entropy, max_depth=10, min_samples_leaf=20......\n",
      "[CV 6/10; 6/10] START criterion=entropy, max_depth=10, min_samples_leaf=20......\n",
      "[CV 6/10; 5/10] END criterion=gini, max_depth=10, min_samples_leaf=100;, score=0.833 total time=   0.9s\n",
      "[CV 7/10; 6/10] START criterion=entropy, max_depth=10, min_samples_leaf=20......\n",
      "[CV 10/10; 5/10] END criterion=gini, max_depth=10, min_samples_leaf=100;, score=0.835 total time=   0.6s\n",
      "[CV 3/10; 6/10] END criterion=entropy, max_depth=10, min_samples_leaf=20;, score=0.847 total time=   0.5s\n",
      "[CV 8/10; 6/10] START criterion=entropy, max_depth=10, min_samples_leaf=20......\n",
      "[CV 1/10; 6/10] END criterion=entropy, max_depth=10, min_samples_leaf=20;, score=0.847 total time=   0.6s\n",
      "[CV 9/10; 6/10] START criterion=entropy, max_depth=10, min_samples_leaf=20......\n",
      "[CV 4/10; 6/10] END criterion=entropy, max_depth=10, min_samples_leaf=20;, score=0.835 total time=   0.4s\n",
      "[CV 10/10; 6/10] START criterion=entropy, max_depth=10, min_samples_leaf=20.....\n",
      "[CV 1/10; 7/10] START criterion=entropy, max_depth=20, min_samples_leaf=5.......\n",
      "[CV 2/10; 6/10] END criterion=entropy, max_depth=10, min_samples_leaf=20;, score=0.848 total time=   0.6s\n",
      "[CV 6/10; 6/10] END criterion=entropy, max_depth=10, min_samples_leaf=20;, score=0.838 total time=   0.5s\n",
      "[CV 2/10; 7/10] START criterion=entropy, max_depth=20, min_samples_leaf=5.......\n",
      "[CV 3/10; 7/10] START criterion=entropy, max_depth=20, min_samples_leaf=5.......\n",
      "[CV 5/10; 6/10] END criterion=entropy, max_depth=10, min_samples_leaf=20;, score=0.838 total time=   0.6s\n",
      "[CV 4/10; 7/10] START criterion=entropy, max_depth=20, min_samples_leaf=5.......\n",
      "[CV 7/10; 6/10] END criterion=entropy, max_depth=10, min_samples_leaf=20;, score=0.844 total time=   0.5s\n",
      "[CV 9/10; 6/10] END criterion=entropy, max_depth=10, min_samples_leaf=20;, score=0.838 total time=   0.4s\n",
      "[CV 5/10; 7/10] START criterion=entropy, max_depth=20, min_samples_leaf=5.......\n",
      "[CV 6/10; 7/10] START criterion=entropy, max_depth=20, min_samples_leaf=5.......\n",
      "[CV 10/10; 6/10] END criterion=entropy, max_depth=10, min_samples_leaf=20;, score=0.842 total time=   0.6s\n",
      "[CV 8/10; 6/10] END criterion=entropy, max_depth=10, min_samples_leaf=20;, score=0.836 total time=   0.7s\n",
      "[CV 7/10; 7/10] START criterion=entropy, max_depth=20, min_samples_leaf=5.......\n",
      "[CV 1/10; 7/10] END criterion=entropy, max_depth=20, min_samples_leaf=5;, score=0.862 total time=   0.6s\n",
      "[CV 8/10; 7/10] START criterion=entropy, max_depth=20, min_samples_leaf=5.......\n",
      "[CV 9/10; 7/10] START criterion=entropy, max_depth=20, min_samples_leaf=5.......\n",
      "[CV 2/10; 7/10] END criterion=entropy, max_depth=20, min_samples_leaf=5;, score=0.859 total time=   0.7s\n",
      "[CV 3/10; 7/10] END criterion=entropy, max_depth=20, min_samples_leaf=5;, score=0.857 total time=   0.7s\n",
      "[CV 10/10; 7/10] START criterion=entropy, max_depth=20, min_samples_leaf=5......\n",
      "[CV 1/10; 8/10] START criterion=entropy, max_depth=2, min_samples_leaf=50.......\n",
      "[CV 4/10; 7/10] END criterion=entropy, max_depth=20, min_samples_leaf=5;, score=0.843 total time=   0.7s\n",
      "[CV 2/10; 8/10] START criterion=entropy, max_depth=2, min_samples_leaf=50.......\n",
      "[CV 1/10; 8/10] END criterion=entropy, max_depth=2, min_samples_leaf=50;, score=0.776 total time=   0.2s\n",
      "[CV 6/10; 7/10] END criterion=entropy, max_depth=20, min_samples_leaf=5;, score=0.855 total time=   0.7s\n",
      "[CV 3/10; 8/10] START criterion=entropy, max_depth=2, min_samples_leaf=50.......\n",
      "[CV 4/10; 8/10] START criterion=entropy, max_depth=2, min_samples_leaf=50.......\n",
      "[CV 5/10; 7/10] END criterion=entropy, max_depth=20, min_samples_leaf=5;, score=0.848 total time=   0.8s\n",
      "[CV 5/10; 8/10] START criterion=entropy, max_depth=2, min_samples_leaf=50.......\n",
      "[CV 9/10; 7/10] END criterion=entropy, max_depth=20, min_samples_leaf=5;, score=0.845 total time=   0.6s\n",
      "[CV 2/10; 8/10] END criterion=entropy, max_depth=2, min_samples_leaf=50;, score=0.783 total time=   0.2s\n",
      "[CV 6/10; 8/10] START criterion=entropy, max_depth=2, min_samples_leaf=50.......\n",
      "[CV 7/10; 7/10] END criterion=entropy, max_depth=20, min_samples_leaf=5;, score=0.845 total time=   0.7s\n",
      "[CV 3/10; 8/10] END criterion=entropy, max_depth=2, min_samples_leaf=50;, score=0.781 total time=   0.2s\n",
      "[CV 7/10; 8/10] START criterion=entropy, max_depth=2, min_samples_leaf=50.......\n",
      "[CV 8/10; 8/10] START criterion=entropy, max_depth=2, min_samples_leaf=50.......\n",
      "[CV 9/10; 8/10] START criterion=entropy, max_depth=2, min_samples_leaf=50.......\n",
      "[CV 4/10; 8/10] END criterion=entropy, max_depth=2, min_samples_leaf=50;, score=0.771 total time=   0.3s\n",
      "[CV 8/10; 7/10] END criterion=entropy, max_depth=20, min_samples_leaf=5;, score=0.844 total time=   0.8s\n",
      "[CV 10/10; 8/10] START criterion=entropy, max_depth=2, min_samples_leaf=50......\n",
      "[CV 1/10; 9/10] START criterion=gini, max_depth=2, min_samples_leaf=10..........\n",
      "[CV 6/10; 8/10] END criterion=entropy, max_depth=2, min_samples_leaf=50;, score=0.769 total time=   0.2s\n",
      "[CV 10/10; 7/10] END criterion=entropy, max_depth=20, min_samples_leaf=5;, score=0.848 total time=   0.7s\n",
      "[CV 2/10; 9/10] START criterion=gini, max_depth=2, min_samples_leaf=10..........\n",
      "[CV 3/10; 9/10] START criterion=gini, max_depth=2, min_samples_leaf=10..........\n",
      "[CV 8/10; 8/10] END criterion=entropy, max_depth=2, min_samples_leaf=50;, score=0.769 total time=   0.2s\n",
      "[CV 7/10; 8/10] END criterion=entropy, max_depth=2, min_samples_leaf=50;, score=0.777 total time=   0.3s\n",
      "[CV 5/10; 8/10] END criterion=entropy, max_depth=2, min_samples_leaf=50;, score=0.782 total time=   0.4s\n",
      "[CV 4/10; 9/10] START criterion=gini, max_depth=2, min_samples_leaf=10..........\n",
      "[CV 5/10; 9/10] START criterion=gini, max_depth=2, min_samples_leaf=10..........\n",
      "[CV 6/10; 9/10] START criterion=gini, max_depth=2, min_samples_leaf=10..........\n",
      "[CV 9/10; 8/10] END criterion=entropy, max_depth=2, min_samples_leaf=50;, score=0.776 total time=   0.3s\n",
      "[CV 1/10; 9/10] END criterion=gini, max_depth=2, min_samples_leaf=10;, score=0.792 total time=   0.3s\n",
      "[CV 2/10; 9/10] END criterion=gini, max_depth=2, min_samples_leaf=10;, score=0.797 total time=   0.2s\n",
      "[CV 10/10; 8/10] END criterion=entropy, max_depth=2, min_samples_leaf=50;, score=0.785 total time=   0.3s\n",
      "[CV 7/10; 9/10] START criterion=gini, max_depth=2, min_samples_leaf=10..........\n",
      "[CV 8/10; 9/10] START criterion=gini, max_depth=2, min_samples_leaf=10..........\n",
      "[CV 3/10; 9/10] END criterion=gini, max_depth=2, min_samples_leaf=10;, score=0.789 total time=   0.2s\n",
      "[CV 9/10; 9/10] START criterion=gini, max_depth=2, min_samples_leaf=10..........\n",
      "[CV 10/10; 9/10] START criterion=gini, max_depth=2, min_samples_leaf=10.........\n",
      "[CV 6/10; 9/10] END criterion=gini, max_depth=2, min_samples_leaf=10;, score=0.791 total time=   0.2s\n",
      "[CV 4/10; 9/10] END criterion=gini, max_depth=2, min_samples_leaf=10;, score=0.790 total time=   0.3s\n",
      "[CV 1/10; 10/10] START criterion=entropy, max_depth=5, min_samples_leaf=10......\n",
      "[CV 5/10; 9/10] END criterion=gini, max_depth=2, min_samples_leaf=10;, score=0.791 total time=   0.3s\n",
      "[CV 2/10; 10/10] START criterion=entropy, max_depth=5, min_samples_leaf=10......\n",
      "[CV 3/10; 10/10] START criterion=entropy, max_depth=5, min_samples_leaf=10......\n",
      "[CV 7/10; 9/10] END criterion=gini, max_depth=2, min_samples_leaf=10;, score=0.796 total time=   0.2s\n",
      "[CV 4/10; 10/10] START criterion=entropy, max_depth=5, min_samples_leaf=10......\n",
      "[CV 5/10; 10/10] START criterion=entropy, max_depth=5, min_samples_leaf=10......\n",
      "[CV 9/10; 9/10] END criterion=gini, max_depth=2, min_samples_leaf=10;, score=0.792 total time=   0.2s\n",
      "[CV 8/10; 9/10] END criterion=gini, max_depth=2, min_samples_leaf=10;, score=0.784 total time=   0.2s\n",
      "[CV 6/10; 10/10] START criterion=entropy, max_depth=5, min_samples_leaf=10......\n",
      "[CV 7/10; 10/10] START criterion=entropy, max_depth=5, min_samples_leaf=10......\n",
      "[CV 10/10; 9/10] END criterion=gini, max_depth=2, min_samples_leaf=10;, score=0.800 total time=   0.3s\n",
      "[CV 8/10; 10/10] START criterion=entropy, max_depth=5, min_samples_leaf=10......\n",
      "[CV 1/10; 10/10] END criterion=entropy, max_depth=5, min_samples_leaf=10;, score=0.828 total time=   0.3s\n",
      "[CV 2/10; 10/10] END criterion=entropy, max_depth=5, min_samples_leaf=10;, score=0.827 total time=   0.3s\n",
      "[CV 9/10; 10/10] START criterion=entropy, max_depth=5, min_samples_leaf=10......\n",
      "[CV 10/10; 10/10] START criterion=entropy, max_depth=5, min_samples_leaf=10.....\n",
      "[CV 4/10; 10/10] END criterion=entropy, max_depth=5, min_samples_leaf=10;, score=0.819 total time=   0.3s[CV 5/10; 10/10] END criterion=entropy, max_depth=5, min_samples_leaf=10;, score=0.821 total time=   0.3s\n",
      "\n",
      "[CV 3/10; 10/10] END criterion=entropy, max_depth=5, min_samples_leaf=10;, score=0.826 total time=   0.4s\n",
      "[CV 6/10; 10/10] END criterion=entropy, max_depth=5, min_samples_leaf=10;, score=0.819 total time=   0.3s\n",
      "[CV 7/10; 10/10] END criterion=entropy, max_depth=5, min_samples_leaf=10;, score=0.812 total time=   0.4s\n",
      "[CV 8/10; 10/10] END criterion=entropy, max_depth=5, min_samples_leaf=10;, score=0.817 total time=   0.3s\n",
      "[CV 9/10; 10/10] END criterion=entropy, max_depth=5, min_samples_leaf=10;, score=0.819 total time=   0.2s\n",
      "[CV 10/10; 10/10] END criterion=entropy, max_depth=5, min_samples_leaf=10;, score=0.823 total time=   0.3s\n",
      "0.8505663430420711\n",
      "{'ccp_alpha': 0.0, 'class_weight': None, 'criterion': 'entropy', 'max_depth': 20, 'max_features': None, 'max_leaf_nodes': None, 'min_impurity_decrease': 0.0, 'min_samples_leaf': 5, 'min_samples_split': 2, 'min_weight_fraction_leaf': 0.0, 'random_state': None, 'splitter': 'best'}\n"
     ]
    }
   ],
   "source": [
    "model = DecisionTreeClassifier()\n",
    "params = {\n",
    "    #'n_estimators': np.arange(100, 1500, 100),\n",
    "    'max_depth': [2, 3, 5, 10, 20],\n",
    "    'min_samples_leaf': [5, 10, 20, 50, 100],\n",
    "    'criterion': [\"gini\", \"entropy\"]\n",
    "}\n",
    "\n",
    "model = model_selection.RandomizedSearchCV(\n",
    "    estimator = model,\n",
    "    param_distributions=params,\n",
    "    n_iter=10,\n",
    "    verbose=10, \n",
    "    cv=10, \n",
    "    scoring='accuracy',\n",
    "    n_jobs = -1\n",
    "    )\n",
    "\n",
    "model.fit(x_train_sm, y_train_sm)\n",
    "\n",
    "print(model.best_score_)\n",
    "print(model.best_estimator_.get_params())"
   ]
  },
  {
   "cell_type": "code",
   "execution_count": 53,
   "metadata": {},
   "outputs": [
    {
     "name": "stdout",
     "output_type": "stream",
     "text": [
      "0.8766181229773462\n",
      "{'bootstrap': True, 'ccp_alpha': 0.0, 'class_weight': None, 'criterion': 'gini', 'max_depth': 18, 'max_features': 'sqrt', 'max_leaf_nodes': None, 'max_samples': None, 'min_impurity_decrease': 0.0, 'min_samples_leaf': 1, 'min_samples_split': 2, 'min_weight_fraction_leaf': 0.0, 'n_estimators': 1100, 'n_jobs': -1, 'oob_score': False, 'random_state': None, 'verbose': 0, 'warm_start': False}\n"
     ]
    }
   ],
   "source": [
    "from sklearn import ensemble\n",
    "\n",
    "model = ensemble.RandomForestClassifier(n_jobs=-1)\n",
    "\n",
    "param_grid = {\n",
    "    \"n_estimators\":np.arange(100, 1500, 100),\n",
    "    \"max_depth\": np.arange(1,20),\n",
    "    \"criterion\":['gini', 'entropy']\n",
    "}\n",
    "\n",
    "model = model_selection.RandomizedSearchCV(\n",
    "    estimator=model,\n",
    "    param_distributions=param_grid,\n",
    "    cv=5, \n",
    "    n_iter=10,\n",
    "    scoring='accuracy',\n",
    "    n_jobs=1\n",
    ")\n",
    "\n",
    "model.fit(x_train_sm, y_train_sm)\n",
    "print(model.best_score_)\n",
    "print(model.best_estimator_.get_params())"
   ]
  },
  {
   "cell_type": "code",
   "execution_count": 58,
   "metadata": {},
   "outputs": [
    {
     "name": "stdout",
     "output_type": "stream",
     "text": [
      "Classification Report: \n",
      "               precision    recall  f1-score   support\n",
      "\n",
      "       <=50K       0.91      0.84      0.88      6180\n",
      "        >50K       0.85      0.92      0.88      6180\n",
      "\n",
      "    accuracy                           0.88     12360\n",
      "   macro avg       0.88      0.88      0.88     12360\n",
      "weighted avg       0.88      0.88      0.88     12360\n",
      "\n",
      "Accuracy Score:  0.8801779935275081\n",
      "Confusion Matrix: \n",
      " [[5190  990]\n",
      " [ 491 5689]]\n"
     ]
    }
   ],
   "source": [
    "model = ensemble.RandomForestClassifier(criterion='gini', max_depth=18, n_estimators=1100, n_jobs=-1)\n",
    "\n",
    "model.fit(x_train_sm, y_train_sm)\n",
    "model_metrics(model, x_train_sm, x_test_sm, y_train_sm, y_test_sm)"
   ]
  },
  {
   "cell_type": "code",
   "execution_count": 59,
   "metadata": {},
   "outputs": [
    {
     "name": "stdout",
     "output_type": "stream",
     "text": [
      "0.8669363538295578\n",
      "{'bootstrap': True, 'ccp_alpha': 0.0, 'class_weight': None, 'criterion': 'gini', 'max_depth': 20, 'max_features': 'sqrt', 'max_leaf_nodes': None, 'max_samples': None, 'min_impurity_decrease': 0.0, 'min_samples_leaf': 5, 'min_samples_split': 2, 'min_weight_fraction_leaf': 0.0, 'n_estimators': 100, 'n_jobs': -1, 'oob_score': False, 'random_state': None, 'verbose': 0, 'warm_start': False}\n"
     ]
    }
   ],
   "source": [
    "model = ensemble.RandomForestClassifier(n_jobs=-1)\n",
    "\n",
    "param_grid = {\n",
    "    'max_depth': [2, 3, 5, 10, 20],\n",
    "    'min_samples_leaf': [5, 10, 20, 50, 100],\n",
    "    'criterion': [\"gini\", \"entropy\"]\n",
    "}\n",
    "\n",
    "model = model_selection.GridSearchCV(\n",
    "    estimator=model,\n",
    "    param_grid=param_grid,\n",
    "    cv=5,\n",
    "    scoring='accuracy',\n",
    "    n_jobs=1\n",
    ")\n",
    "\n",
    "model.fit(x_train_sm, y_train_sm)\n",
    "print(model.best_score_)\n",
    "print(model.best_estimator_.get_params())"
   ]
  },
  {
   "cell_type": "code",
   "execution_count": 60,
   "metadata": {},
   "outputs": [
    {
     "name": "stdout",
     "output_type": "stream",
     "text": [
      "Classification Report: \n",
      "               precision    recall  f1-score   support\n",
      "\n",
      "       <=50K       0.89      0.84      0.86      6180\n",
      "        >50K       0.85      0.90      0.87      6180\n",
      "\n",
      "    accuracy                           0.87     12360\n",
      "   macro avg       0.87      0.87      0.87     12360\n",
      "weighted avg       0.87      0.87      0.87     12360\n",
      "\n",
      "Accuracy Score:  0.8680420711974111\n",
      "Confusion Matrix: \n",
      " [[5162 1018]\n",
      " [ 613 5567]]\n"
     ]
    }
   ],
   "source": [
    "model = ensemble.RandomForestClassifier(criterion='gini', max_depth=20, n_estimators=100, n_jobs=-1, min_samples_leaf=5)\n",
    "\n",
    "model.fit(x_train_sm, y_train_sm)\n",
    "model_metrics(model, x_train_sm, x_test_sm, y_train_sm, y_test_sm)"
   ]
  },
  {
   "cell_type": "code",
   "execution_count": null,
   "metadata": {},
   "outputs": [],
   "source": []
  }
 ],
 "metadata": {
  "kernelspec": {
   "display_name": "Python 3.8.10 64-bit",
   "language": "python",
   "name": "python3"
  },
  "language_info": {
   "codemirror_mode": {
    "name": "ipython",
    "version": 3
   },
   "file_extension": ".py",
   "mimetype": "text/x-python",
   "name": "python",
   "nbconvert_exporter": "python",
   "pygments_lexer": "ipython3",
   "version": "3.8.10"
  },
  "orig_nbformat": 4,
  "vscode": {
   "interpreter": {
    "hash": "916dbcbb3f70747c44a77c7bcd40155683ae19c65e1c03b4aa3499c5328201f1"
   }
  }
 },
 "nbformat": 4,
 "nbformat_minor": 2
}
